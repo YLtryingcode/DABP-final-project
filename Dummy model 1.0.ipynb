{
 "cells": [
  {
   "cell_type": "code",
   "execution_count": 2,
   "id": "a8e189b7",
   "metadata": {},
   "outputs": [
    {
     "name": "stdout",
     "output_type": "stream",
     "text": [
      "Collecting altair\n",
      "  Obtaining dependency information for altair from https://files.pythonhosted.org/packages/17/16/b12fca347ff9d062e3c44ad9641d2ec50364570a059f3078ada3a5119d7a/altair-5.1.2-py3-none-any.whl.metadata\n",
      "  Downloading altair-5.1.2-py3-none-any.whl.metadata (8.6 kB)\n",
      "Requirement already satisfied: jinja2 in c:\\users\\luyil\\anaconda3\\lib\\site-packages (from altair) (2.11.3)\n",
      "Requirement already satisfied: jsonschema>=3.0 in c:\\users\\luyil\\anaconda3\\lib\\site-packages (from altair) (4.16.0)\n",
      "Requirement already satisfied: numpy in c:\\users\\luyil\\anaconda3\\lib\\site-packages (from altair) (1.23.5)\n",
      "Requirement already satisfied: packaging in c:\\users\\luyil\\anaconda3\\lib\\site-packages (from altair) (21.3)\n",
      "Requirement already satisfied: pandas>=0.25 in c:\\users\\luyil\\anaconda3\\lib\\site-packages (from altair) (1.4.4)\n",
      "Requirement already satisfied: toolz in c:\\users\\luyil\\anaconda3\\lib\\site-packages (from altair) (0.11.2)\n",
      "Requirement already satisfied: typing-extensions>=4.0.1 in c:\\users\\luyil\\anaconda3\\lib\\site-packages (from altair) (4.8.0)\n",
      "Requirement already satisfied: attrs>=17.4.0 in c:\\users\\luyil\\anaconda3\\lib\\site-packages (from jsonschema>=3.0->altair) (21.4.0)\n",
      "Requirement already satisfied: pyrsistent!=0.17.0,!=0.17.1,!=0.17.2,>=0.14.0 in c:\\users\\luyil\\anaconda3\\lib\\site-packages (from jsonschema>=3.0->altair) (0.18.0)\n",
      "Requirement already satisfied: python-dateutil>=2.8.1 in c:\\users\\luyil\\anaconda3\\lib\\site-packages (from pandas>=0.25->altair) (2.8.2)\n",
      "Requirement already satisfied: pytz>=2020.1 in c:\\users\\luyil\\anaconda3\\lib\\site-packages (from pandas>=0.25->altair) (2022.1)\n",
      "Requirement already satisfied: MarkupSafe>=0.23 in c:\\users\\luyil\\anaconda3\\lib\\site-packages (from jinja2->altair) (2.0.1)\n",
      "Requirement already satisfied: pyparsing!=3.0.5,>=2.0.2 in c:\\users\\luyil\\anaconda3\\lib\\site-packages (from packaging->altair) (3.0.9)\n",
      "Requirement already satisfied: six>=1.5 in c:\\users\\luyil\\anaconda3\\lib\\site-packages (from python-dateutil>=2.8.1->pandas>=0.25->altair) (1.16.0)\n",
      "Downloading altair-5.1.2-py3-none-any.whl (516 kB)\n",
      "   ---------------------------------------- 516.2/516.2 kB 8.0 MB/s eta 0:00:00\n",
      "Installing collected packages: altair\n",
      "Successfully installed altair-5.1.2\n",
      "Note: you may need to restart the kernel to use updated packages.\n"
     ]
    },
    {
     "name": "stderr",
     "output_type": "stream",
     "text": [
      "WARNING: Ignoring invalid distribution -urobipy (c:\\users\\luyil\\anaconda3\\lib\\site-packages)\n",
      "WARNING: Ignoring invalid distribution -urobipy (c:\\users\\luyil\\anaconda3\\lib\\site-packages)\n",
      "\n",
      "[notice] A new release of pip is available: 23.2.1 -> 23.3.1\n",
      "[notice] To update, run: python.exe -m pip install --upgrade pip\n"
     ]
    }
   ],
   "source": [
    "pip install altair"
   ]
  },
  {
   "cell_type": "code",
   "execution_count": 3,
   "id": "7f2f318d",
   "metadata": {},
   "outputs": [],
   "source": [
    "import numpy as np\n",
    "from scipy.integrate import odeint\n",
    "import matplotlib.pyplot as plt\n",
    "import gurobipy as gp\n",
    "from gurobipy import GRB\n",
    "import pandas as pd\n",
    "import numpy as np\n",
    "import matplotlib.pyplot as plt\n",
    "from gurobipy import *\n",
    "import altair as alt\n",
    "import math"
   ]
  },
  {
   "cell_type": "markdown",
   "id": "c43d079d-2399-43d4-b0a8-2f937585abc6",
   "metadata": {},
   "source": [
    "Input Parameters"
   ]
  },
  {
   "cell_type": "code",
   "execution_count": 4,
   "id": "7046c4a7-1624-4cfa-baf6-cd9af2fe8ca6",
   "metadata": {},
   "outputs": [],
   "source": [
    "#Cost parameters\n",
    "Cf=1\n",
    "# cost of mining\n",
    "C1=2\n",
    "#C1 - hydrometallurgy production cost ($/t)\n",
    "C2=3\n",
    "#C2 - pyrometallurgy production cost ($/t)\n",
    "Cm=6\n",
    "#Cm-cost of manufacuring ($/t)\n",
    "Ct1=4\n",
    "#Ct1 - copper transportation by EV truck cost ($/t)\n",
    "Ct2=5\n",
    "#Ct2 - copper transportation by diesel truck cost ($/t)\n",
    "CR1=6\n",
    "#CR1- recycling of end-use to production cost ($/t)\n",
    "CR2=7\n",
    "#CR2- recycling of end-use to manufacturing cost ($/t)"
   ]
  },
  {
   "cell_type": "code",
   "execution_count": 5,
   "id": "8f8766ce-150b-4119-9f2d-6ba1a5b2de1d",
   "metadata": {},
   "outputs": [],
   "source": [
    "# Emission factors \n",
    "EMf=4\n",
    "#EMf - emission factor of mining (t CO2-eq/t)\n",
    "EM1=2\n",
    "#EM1 - emission factor of hydrometallurgy production (t CO2-eq/t)\n",
    "EM2=3\n",
    "#EM2 - emission factor of pyrometallurgy production (t CO2-eq/t)\n",
    "\n",
    "EMf= 8\n",
    "# EMf - emission factor of manufacturing (t CO2-eq/t)\n",
    "EMt1=4\n",
    "#EMt1 - emission factor of copper transportation by EV truck (t CO2-eq/t)\n",
    "EMt2=5\n",
    "#EMt2 - emission factor of copper transportation by diesel truck (t CO2-eq/t)\n",
    "EMR1=4\n",
    "#EMR1- emission factor of recycling of end-use to production (t CO2-eq/t)\n",
    "EMR2=3\n",
    "#EMR2- emission factor of recycling of end-use to manufacturing (t CO2-eq/t)\n"
   ]
  },
  {
   "cell_type": "code",
   "execution_count": 6,
   "id": "a76aa42e-d0c8-4405-b6a9-e9bcf5ad63a2",
   "metadata": {},
   "outputs": [],
   "source": [
    "# Energy consumption factor\n",
    "Ef=8\n",
    "#Ef - energy consumption of mining (kwh/t)\n",
    "E1=4\n",
    "#E1 - energy consumption of hydrometallurgy production cost (kwh/t)\n",
    "E2=4\n",
    "#E2 - energy consumption of pyrometallurgy production cost (kwh/t)\n",
    "Em=9\n",
    "#Em - energy consumption of manufacturing (kwh/t)\n",
    "Et1=5\n",
    "#Et1 - energy consumption of copper transportation by EV truck cost (kwh/t)\n",
    "Et2 =7\n",
    "#Et2 - energy consumption of copper transportation by diesel truck cost (kwh/t)\n",
    "ER1=8\n",
    "#ER1- energy consumption of recycling of end-use to production cost (kwh/t)\n",
    "ER2=9\n",
    "#ER2- energy consumption of recycling of end-use to manufacturing cost (kwh/t)"
   ]
  },
  {
   "cell_type": "code",
   "execution_count": 7,
   "id": "a650b0d4-7ef6-4fa9-90b9-02683edfecdd",
   "metadata": {},
   "outputs": [],
   "source": [
    "# Demand and production parameters\n",
    "D=400\n",
    "#D is the minimum demand (t)\n",
    "P=350\n",
    "\n",
    "#P is the minimum production (t)\n"
   ]
  },
  {
   "cell_type": "code",
   "execution_count": 8,
   "id": "55719131",
   "metadata": {},
   "outputs": [
    {
     "name": "stdout",
     "output_type": "stream",
     "text": [
      "Set parameter Username\n",
      "Academic license - for non-commercial use only - expires 2024-09-07\n"
     ]
    }
   ],
   "source": [
    "m = gp.Model()"
   ]
  },
  {
   "cell_type": "code",
   "execution_count": 9,
   "id": "f1b9c254",
   "metadata": {},
   "outputs": [],
   "source": [
    "# Add decision varibles\n",
    "# f - production volume from mining (t); X1 - hydrometallurgy production (t); X2 - pyrometallurgy\n",
    "#production (t);\n",
    "#Y1 - copper transportation by EV truck (t); Y2 - copper transportation by diesel truck (t); R1-\n",
    "#recycling rate of end-use to production (%)\n",
    "#R2- recycling rate of end-use to manufacturing (%)\n",
    "\n",
    "f = m.addVar(name=\"f\")\n",
    "X1 = m.addVar(name=\"X1\")\n",
    "X2 = m.addVar(name=\"X2\")\n",
    "Y1 = m.addVar(name=\"Y1\")\n",
    "Y2 = m.addVar(name=\"Y2\")\n",
    "R1 = m.addVar( name=\"R1\")\n",
    "R2 = m.addVar( name=\"R2\")\n"
   ]
  },
  {
   "cell_type": "code",
   "execution_count": 10,
   "id": "3c02c20a",
   "metadata": {},
   "outputs": [
    {
     "data": {
      "text/plain": [
       "<gurobi.Constr *Awaiting Model Update*>"
      ]
     },
     "execution_count": 10,
     "metadata": {},
     "output_type": "execute_result"
    }
   ],
   "source": [
    "# Add constraints\n",
    "m.addConstr (f == X1+X2)\n",
    "m.addConstr (Y1+Y2 == X1+X2+(Y1+Y2)*(R1+R2))\n",
    "m.addConstr ((Y1+Y2)*(R1+R2) >=f )\n",
    "m.addConstr (f>=P)\n",
    "m.addConstr (Y1+Y2>=D)\n",
    "m.addConstr (R1<=0.5)\n",
    "m.addConstr (R2<=0.5)"
   ]
  },
  {
   "cell_type": "code",
   "execution_count": 11,
   "id": "3cc8831a",
   "metadata": {},
   "outputs": [],
   "source": [
    "#Objective function\n",
    "m.setObjective(f*Cf + X1*C1+ X2*C2+ (X1+X2)*Cm + Y1*Ct1+ Y2*Ct2 +(Y1+Y2)*R1*CR1+(Y1+Y2)*R2*CR2, gp.GRB.MINIMIZE)\n",
    "# minimze cost \n",
    "\n",
    "m.setObjective(f*EMf + X1*EM1+ X2*EM2+ (X1+X2)*EMf + Y1*EMt1 + Y2*EMt2 + (Y1+Y2)*\n",
    "R1*EMR1 + (Y1+Y2) *R2*EMR2, gp.GRB.MINIMIZE)\n",
    "\n",
    "# minimze emissions\n",
    "\n",
    "m.setObjective(f*Ef + X1*E1+ X2*E2+ (X1+X2)*Em + Y1*Et1 +Y2*Et2+ (Y1+Y2)*R1*ER1 + (Y1+Y2)*R2*ER2\n",
    ", gp.GRB.MINIMIZE)\n",
    "\n",
    "# minimize energy "
   ]
  },
  {
   "cell_type": "code",
   "execution_count": 12,
   "id": "210c091b-9664-4ecc-b591-01c3b561dec4",
   "metadata": {},
   "outputs": [
    {
     "name": "stdout",
     "output_type": "stream",
     "text": [
      "Set parameter NonConvex to value 2\n",
      "Gurobi Optimizer version 10.0.1 build v10.0.1rc0 (win64)\n",
      "\n",
      "CPU model: Intel(R) Core(TM) i5-10310U CPU @ 1.70GHz, instruction set [SSE2|AVX|AVX2]\n",
      "Thread count: 4 physical cores, 8 logical processors, using up to 8 threads\n",
      "\n",
      "Optimize a model with 5 rows, 7 columns and 8 nonzeros\n",
      "Model fingerprint: 0xa8a45e5c\n",
      "Model has 4 quadratic objective terms\n",
      "Model has 2 quadratic constraints\n",
      "Coefficient statistics:\n",
      "  Matrix range     [1e+00, 1e+00]\n",
      "  QMatrix range    [1e+00, 1e+00]\n",
      "  QLMatrix range   [1e+00, 1e+00]\n",
      "  Objective range  [5e+00, 1e+01]\n",
      "  QObjective range [2e+01, 2e+01]\n",
      "  Bounds range     [0e+00, 0e+00]\n",
      "  RHS range        [5e-01, 4e+02]\n",
      "Presolve removed 3 rows and 0 columns\n",
      "\n",
      "Continuous model is non-convex -- solving as a MIP\n",
      "\n",
      "Presolve removed 3 rows and 0 columns\n",
      "Presolve time: 0.02s\n",
      "Presolved: 20 rows, 13 columns, 45 nonzeros\n",
      "Presolved model has 4 bilinear constraint(s)\n",
      "Variable types: 13 continuous, 0 integer (0 binary)\n",
      "\n",
      "Root relaxation: objective 1.365000e+04, 5 iterations, 0.00 seconds (0.00 work units)\n",
      "\n",
      "    Nodes    |    Current Node    |     Objective Bounds      |     Work\n",
      " Expl Unexpl |  Obj  Depth IntInf | Incumbent    BestBd   Gap | It/Node Time\n",
      "\n",
      "     0     0 13650.0000    0    1          - 13650.0000      -     -    0s\n",
      "H    0     0                    13650.000000 13650.0000  0.00%     -    0s\n",
      "     0     0 13650.0000    0    1 13650.0000 13650.0000  0.00%     -    0s\n",
      "\n",
      "Explored 1 nodes (5 simplex iterations) in 0.15 seconds (0.00 work units)\n",
      "Thread count was 8 (of 8 available processors)\n",
      "\n",
      "Solution count 1: 13650 \n",
      "\n",
      "Optimal solution found (tolerance 1.00e-04)\n",
      "Best objective 1.365000000000e+04, best bound 1.365000000000e+04, gap 0.0000%\n"
     ]
    }
   ],
   "source": [
    "m.setParam('NonConvex', 2)\n",
    "m.optimize()"
   ]
  },
  {
   "cell_type": "code",
   "execution_count": null,
   "id": "fd481f5b",
   "metadata": {},
   "outputs": [],
   "source": []
  },
  {
   "cell_type": "code",
   "execution_count": null,
   "id": "6925bcdd",
   "metadata": {},
   "outputs": [],
   "source": []
  },
  {
   "cell_type": "code",
   "execution_count": null,
   "id": "d8ad3c08-4960-4643-bf18-87dfa293277d",
   "metadata": {},
   "outputs": [],
   "source": []
  }
 ],
 "metadata": {
  "kernelspec": {
   "display_name": "Python 3 (ipykernel)",
   "language": "python",
   "name": "python3"
  },
  "language_info": {
   "codemirror_mode": {
    "name": "ipython",
    "version": 3
   },
   "file_extension": ".py",
   "mimetype": "text/x-python",
   "name": "python",
   "nbconvert_exporter": "python",
   "pygments_lexer": "ipython3",
   "version": "3.9.13"
  }
 },
 "nbformat": 4,
 "nbformat_minor": 5
}
